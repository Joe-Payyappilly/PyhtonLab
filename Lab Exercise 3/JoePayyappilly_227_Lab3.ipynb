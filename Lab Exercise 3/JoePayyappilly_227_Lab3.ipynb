{
 "cells": [
  {
   "cell_type": "code",
   "execution_count": 23,
   "metadata": {},
   "outputs": [
    {
     "name": "stdout",
     "output_type": "stream",
     "text": [
      "['joe', 'jjj', 'kk']\n"
     ]
    }
   ],
   "source": [
    "para=\"joe__jjj___kk\"\n",
    "ss=[]\n",
    "news=para.split(\"_\")\n",
    "for new in news:\n",
    "    if new!='':\n",
    "        ss.append(new)\n",
    "\n",
    "print(ss)"
   ]
  },
  {
   "cell_type": "code",
   "execution_count": 26,
   "metadata": {},
   "outputs": [
    {
     "name": "stdout",
     "output_type": "stream",
     "text": [
      "{'name': 'Joe', 'Domain_name': 'Physics', 'Regno': '2347227'}\n"
     ]
    }
   ],
   "source": [
    "def joe(stringsplit):\n",
    "    news = stringsplit.split('_')\n",
    "    ss=[]\n",
    "    for new in news:\n",
    "       if new!='':\n",
    "          ss.append(new)\n",
    "\n",
    "  \n",
    "    name = ss[0]\n",
    "    domain_name = ss[1]\n",
    "    regno = ss[2]\n",
    "    convdict = {\n",
    "        \"name\": name,\n",
    "        \"Domain_name\": domain_name,\n",
    "        \"Regno\": regno\n",
    "    }\n",
    "    \n",
    "    return convdict\n",
    "\n",
    "details = \"Joe___Physics____2347227\"\n",
    "answer = joe(details)\n",
    "print(answer)"
   ]
  },
  {
   "cell_type": "markdown",
   "metadata": {},
   "source": [
    "Lab exercise 2"
   ]
  },
  {
   "cell_type": "code",
   "execution_count": null,
   "metadata": {},
   "outputs": [],
   "source": [
    "class physics\n"
   ]
  }
 ],
 "metadata": {
  "kernelspec": {
   "display_name": "base",
   "language": "python",
   "name": "python3"
  },
  "language_info": {
   "codemirror_mode": {
    "name": "ipython",
    "version": 3
   },
   "file_extension": ".py",
   "mimetype": "text/x-python",
   "name": "python",
   "nbconvert_exporter": "python",
   "pygments_lexer": "ipython3",
   "version": "3.11.3"
  },
  "orig_nbformat": 4
 },
 "nbformat": 4,
 "nbformat_minor": 2
}
