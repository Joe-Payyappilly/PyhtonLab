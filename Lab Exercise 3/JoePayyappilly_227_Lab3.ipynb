{
 "cells": [
  {
   "cell_type": "markdown",
   "metadata": {},
   "source": [
    "Question 1"
   ]
  },
  {
   "cell_type": "code",
   "execution_count": 26,
   "metadata": {},
   "outputs": [
    {
     "name": "stdout",
     "output_type": "stream",
     "text": [
      "{'name': 'Joe', 'Domain_name': 'Physics', 'Regno': '2347227'}\n"
     ]
    }
   ],
   "source": [
    "def joe(stringsplit):\n",
    "    news = stringsplit.split('_')\n",
    "    ss=[]\n",
    "    for new in news:\n",
    "       if new!='':\n",
    "          ss.append(new)\n",
    "\n",
    "  \n",
    "    name = ss[0]\n",
    "    domain_name = ss[1]\n",
    "    regno = ss[2]\n",
    "    convdict = {\n",
    "        \"name\": name,\n",
    "        \"Domain_name\": domain_name,\n",
    "        \"Regno\": regno\n",
    "    }\n",
    "    \n",
    "    return convdict\n",
    "\n",
    "details = \"Joe___Physics____2347227\"\n",
    "answer = joe(details)\n",
    "print(answer)"
   ]
  },
  {
   "cell_type": "markdown",
   "metadata": {},
   "source": [
    "Question 2"
   ]
  },
  {
   "cell_type": "code",
   "execution_count": 4,
   "metadata": {},
   "outputs": [
    {
     "name": "stdout",
     "output_type": "stream",
     "text": [
      "Newtonian Mechanics\n",
      "Three Laws of Motion\n",
      "Inertia\n",
      "Quantum Mechanics\n",
      "Duality nature of light\n",
      "De Broglie Wavelength\n",
      "Electrostatics\n",
      "Coulomb's Law\n",
      "Electric Charges and Fields\n",
      "Electrodynamics\n",
      "Maxwell's Equations\n",
      "Electromagnetic Waves\n",
      "Physics Application\n",
      "Engineering, Medical Physics, Astronomy\n"
     ]
    }
   ],
   "source": [
    "class physics:\n",
    "    def __init__(self, name):\n",
    "        self.name = name\n",
    "\n",
    "class Mechanics(physics):\n",
    "    def __init__(self, name, laws):\n",
    "        super().__init__(name)\n",
    "        self.laws = laws\n",
    "\n",
    "class Electromagnetism(physics):\n",
    "    def __init__(self, name, equations):\n",
    "        super().__init__(name)\n",
    "        self.equations = equations\n",
    "\n",
    "class NewtonianMechanics(Mechanics):\n",
    "    def __init__(self, name, laws, principles):\n",
    "        super().__init__(name, laws)\n",
    "        self.principles = principles\n",
    "\n",
    "class QuantumMechanics(Mechanics):\n",
    "    def __init__(self, name, laws, theories):\n",
    "        super().__init__(name, laws)\n",
    "        self.theories = theories\n",
    "\n",
    "class Electrostatics(Electromagnetism):\n",
    "    def __init__(self, name, equations, phenomena):\n",
    "        super().__init__(name, equations)\n",
    "        self.phenomena = phenomena\n",
    "\n",
    "\n",
    "class Electrodynamics(Electromagnetism):\n",
    "    def __init__(self, name, equations, applications):\n",
    "        super().__init__(name, equations)\n",
    "        self.applications = applications\n",
    "\n",
    "class PhysicsApplication(physics):\n",
    "    def __init__(self, name, applications):\n",
    "        super().__init__(name)\n",
    "        self.applications = applications\n",
    "\n",
    "newtonian_mechanics = NewtonianMechanics(\"Newtonian Mechanics\", \"Three Laws of Motion\", \"Inertia\")\n",
    "quantum_mechanics = QuantumMechanics(\"Quantum Mechanics\", \"Duality nature of light\", \"De Broglie Wavelength\")\n",
    "electrostatics = Electrostatics(\"Electrostatics\", \"Coulomb's Law\", \"Electric Charges and Fields\")\n",
    "electrodynamics = Electrodynamics(\"Electrodynamics\", \"Maxwell's Equations\", \"Electromagnetic Waves\")\n",
    "physics_application = PhysicsApplication(\"Physics Application\", \"Engineering, Medical Physics, Astronomy\")\n",
    "\n",
    "print(newtonian_mechanics.name)\n",
    "print(newtonian_mechanics.laws)\n",
    "print(newtonian_mechanics.principles)\n",
    "print(quantum_mechanics.name)\n",
    "print(quantum_mechanics.laws)\n",
    "print(quantum_mechanics.theories)\n",
    "print(electrostatics.name)\n",
    "print(electrostatics.equations)\n",
    "print(electrostatics.phenomena)\n",
    "print(electrodynamics.name)\n",
    "print(electrodynamics.equations)\n",
    "print(electrodynamics.applications)\n",
    "print(physics_application.name)\n",
    "print(physics_application.applications)\n"
   ]
  }
 ],
 "metadata": {
  "kernelspec": {
   "display_name": "base",
   "language": "python",
   "name": "python3"
  },
  "language_info": {
   "codemirror_mode": {
    "name": "ipython",
    "version": 3
   },
   "file_extension": ".py",
   "mimetype": "text/x-python",
   "name": "python",
   "nbconvert_exporter": "python",
   "pygments_lexer": "ipython3",
   "version": "3.11.3"
  },
  "orig_nbformat": 4
 },
 "nbformat": 4,
 "nbformat_minor": 2
}
