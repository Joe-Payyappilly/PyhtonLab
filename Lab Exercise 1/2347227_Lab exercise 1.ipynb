{
 "cells": [
  {
   "cell_type": "markdown",
   "metadata": {},
   "source": [
    "Joe Payyappilly-2347227-MCA B-Lab Exercise 1\n"
   ]
  },
  {
   "cell_type": "markdown",
   "metadata": {},
   "source": [
    "1.Introduction Paragraph and frequency counting"
   ]
  },
  {
   "cell_type": "code",
   "execution_count": 1,
   "metadata": {},
   "outputs": [
    {
     "name": "stdout",
     "output_type": "stream",
     "text": [
      "The word 'my' appears 3 times in the paragraph.\n"
     ]
    }
   ],
   "source": [
    "paragraph=\"My name is Joe Payyappilly. My register number is 2347227. I am a MCA 1st semester student. My domain name is Physics.\"\n",
    "\n",
    "def total(paragraph, word):\n",
    "    word_list = paragraph.lower().split()\n",
    "    word_times = word_list.count(word.lower())\n",
    "    return word_times\n",
    "\n",
    "myword=\"my\"\n",
    "times = total(paragraph, myword)\n",
    "print(f\"The word '{myword}' appears {times} times in the paragraph.\")"
   ]
  },
  {
   "cell_type": "markdown",
   "metadata": {},
   "source": [
    "2.Python program to display datatypes of specific elements in the paragraph:"
   ]
  },
  {
   "cell_type": "code",
   "execution_count": 32,
   "metadata": {},
   "outputs": [
    {
     "name": "stdout",
     "output_type": "stream",
     "text": [
      "My - string\n",
      "name - string\n",
      "is - string\n",
      "Joe - string\n",
      "Payyappilly. - string\n",
      "register - string\n",
      "number - string\n",
      "2347227 - int\n",
      ". - string\n",
      "I - string\n",
      "am - string\n",
      "a - string\n",
      "MCA - string\n",
      "1st - string\n",
      "semester - string\n",
      "student. - string\n",
      "domain - string\n",
      "Physics - string\n"
     ]
    }
   ],
   "source": [
    "def identify_datatypes(paragraph):\n",
    "    elements = paragraph.split()\n",
    "    datatypes = {}\n",
    "    for element in elements:\n",
    "        if element.isdigit():\n",
    "            datatypes[element] = \"int\"\n",
    "        elif element.replace('.', '', 1).isdigit():\n",
    "            datatypes[element] = \"float\"\n",
    "        else:\n",
    "            datatypes[element] = \"string\"\n",
    "    return datatypes\n",
    "\n",
    "paragraph = \"My name is Joe Payyappilly. My register number is 2347227 . I am a MCA 1st semester student. My domain name is Physics .\"\n",
    "datatypes = identify_datatypes(paragraph)\n",
    "for element, datatype in datatypes.items():\n",
    "    print(f\"{element} - {datatype}\")\n"
   ]
  },
  {
   "cell_type": "markdown",
   "metadata": {},
   "source": [
    "3.Python program to count the number of alphabets, numerics, and special symbols in the paragraph:\n",
    "\n"
   ]
  },
  {
   "cell_type": "code",
   "execution_count": 9,
   "metadata": {},
   "outputs": [
    {
     "name": "stdout",
     "output_type": "stream",
     "text": [
      "Number of alphabets: 85\n",
      "Number of numeric characters: 8\n",
      "Number of special symbols: 25\n"
     ]
    }
   ],
   "source": [
    "def count_symbols(paragraph):\n",
    "    alphabets = numerics = specials = 0\n",
    "    for char in paragraph:\n",
    "        if char.isalpha():\n",
    "            alphabets += 1\n",
    "        elif char.isdigit():\n",
    "            numerics += 1\n",
    "        else:\n",
    "            specials += 1\n",
    "    return alphabets, numerics, specials\n",
    "\n",
    "paragraph = \"My name is Joe Payyappilly. My register number is 2347227. I am a MCA 1st semester student. My domain name is Physics.\"\n",
    "num_alphabets, num_numerics, num_specials = count_symbols(paragraph)\n",
    "print(f\"Number of alphabets: {num_alphabets}\")\n",
    "print(f\"Number of numeric characters: {num_numerics}\")\n",
    "print(f\"Number of special symbols: {num_specials}\")\n"
   ]
  },
  {
   "cell_type": "markdown",
   "metadata": {},
   "source": [
    "4. Perform the functions pop(), clear(), discard() and del."
   ]
  },
  {
   "cell_type": "code",
   "execution_count": 34,
   "metadata": {},
   "outputs": [
    {
     "name": "stdout",
     "output_type": "stream",
     "text": [
      "{False, True, 'equations', 8.314, 'Scientists', 10}\n",
      "{True, 'equations', 8.314, 'Scientists', 10}\n",
      "False\n",
      "{True, 'equations', 8.314, 'Scientists'}\n",
      "set()\n"
     ]
    },
    {
     "data": {
      "text/plain": [
       "'\\nInsights:\\n1. The pop() function removes and returns an arbitrary element from the set. As sets are unordered, we cannot predict which element will be removed.\\n2. The clear() function removes all elements from the set, leaving it empty.\\n3. The discard() function removes a specific element from the set if it exists. If the element is not present, it does nothing and does not raise an error.\\n4. The del statement deletes the entire set, and trying to access the set after deletion will raise an error.\\n'"
      ]
     },
     "execution_count": 34,
     "metadata": {},
     "output_type": "execute_result"
    }
   ],
   "source": [
    "phy_set={\"Scientists\",10,True,\"equations\",8.314,False}\n",
    "print(phy_set)\n",
    "popped_element = phy_set.pop()\n",
    "print(phy_set)\n",
    "print(popped_element)\n",
    "phy_set.discard(10)\n",
    "print(phy_set)\n",
    "phy_set.clear()\n",
    "print(phy_set)\n",
    "del phy_set\n",
    "\n",
    "\"\"\"\n",
    "Insights:\n",
    "1. The pop() function removes and returns an arbitrary element from the set. As sets are unordered, we cannot predict which element will be removed.\n",
    "2. The clear() function removes all elements from the set, leaving it empty.\n",
    "3. The discard() function removes a specific element from the set if it exists. If the element is not present, it does nothing and does not raise an error.\n",
    "4. The del statement deletes the entire set, and trying to access the set after deletion will raise an error.\n",
    "\"\"\""
   ]
  },
  {
   "cell_type": "markdown",
   "metadata": {},
   "source": [
    "5.Updating set "
   ]
  },
  {
   "cell_type": "code",
   "execution_count": 14,
   "metadata": {},
   "outputs": [
    {
     "name": "stdout",
     "output_type": "stream",
     "text": [
      "{True, 2.314, 'Theories', 'Scientist', 'Equations'}\n",
      "{False, True, 2.314, 'Experiments', 'Theories', 10, 'Scientist', 'Equations'}\n"
     ]
    }
   ],
   "source": [
    "phy_set = {\"Scientist\", \"Equations\", \"Theories\", 2.314, True}\n",
    "print(phy_set)\n",
    "phy_set.update([\"Experiments\", 10, False])\n",
    "print(phy_set)"
   ]
  },
  {
   "cell_type": "markdown",
   "metadata": {},
   "source": [
    "6.Sorting set"
   ]
  },
  {
   "cell_type": "code",
   "execution_count": 20,
   "metadata": {},
   "outputs": [
    {
     "name": "stdout",
     "output_type": "stream",
     "text": [
      "['Theories', 'Scientist', 'Equations']\n"
     ]
    }
   ],
   "source": [
    "phy_set = {\"Scientist\", \"Equations\", \"Theories\"}\n",
    "sorted_phy_set = sorted(phy_set, reverse=True)\n",
    "print(sorted_phy_set)"
   ]
  },
  {
   "cell_type": "markdown",
   "metadata": {},
   "source": [
    "7.Tuple Packing and unpacking"
   ]
  },
  {
   "cell_type": "code",
   "execution_count": 22,
   "metadata": {},
   "outputs": [
    {
     "name": "stdout",
     "output_type": "stream",
     "text": [
      "Equation\n",
      "Theory\n",
      "Scientist\n"
     ]
    }
   ],
   "source": [
    "\n",
    "tuple_phy = (\"Equation\", \"Theory\", \"Scientist\")\n",
    "(attr1, attr2, attr3) = tuple_phy\n",
    "print(attr1)\n",
    "print(attr2)\n",
    "print(attr3)\n"
   ]
  },
  {
   "cell_type": "markdown",
   "metadata": {},
   "source": [
    "8.Counting"
   ]
  },
  {
   "cell_type": "code",
   "execution_count": 30,
   "metadata": {},
   "outputs": [
    {
     "name": "stdout",
     "output_type": "stream",
     "text": [
      "2\n"
     ]
    }
   ],
   "source": [
    "domain = (\"p\",\"h\",\"y\",\"s\",\"i\",\"c\",\"s\")\n",
    "count = domain.count('s')\n",
    "print(count)"
   ]
  },
  {
   "cell_type": "markdown",
   "metadata": {},
   "source": [
    "9.Slicing and Indexing"
   ]
  },
  {
   "cell_type": "code",
   "execution_count": 25,
   "metadata": {},
   "outputs": [
    {
     "name": "stdout",
     "output_type": "stream",
     "text": [
      "phy\n",
      "ysi\n",
      "physi\n",
      "sics\n",
      "physics\n",
      "s\n",
      "ics\n",
      "hys\n",
      "physi\n",
      "ysic\n"
     ]
    }
   ],
   "source": [
    "domain_name = \"physics\"\n",
    "slice1 = domain_name[0:3]   \n",
    "print(slice1)\n",
    "slice2 = domain_name[2:5]   \n",
    "print(slice2)\n",
    "slice3 = domain_name[:5]    \n",
    "print(slice3)\n",
    "slice4 = domain_name[3:]    \n",
    "print(slice4)\n",
    "slice5 = domain_name[:]   \n",
    "print(slice5)  \n",
    "slice6 = domain_name[-1]  \n",
    "print(slice6)  \n",
    "slice7 = domain_name[-3:]  \n",
    "print(slice7)\n",
    "slice8 = domain_name[-6:-3]\n",
    "print(slice8)\n",
    "slice9 = domain_name[:-2]  \n",
    "print(slice9) \n",
    "slice10 = domain_name[-5: -1]\n",
    "print(slice10)"
   ]
  }
 ],
 "metadata": {
  "kernelspec": {
   "display_name": "base",
   "language": "python",
   "name": "python3"
  },
  "language_info": {
   "codemirror_mode": {
    "name": "ipython",
    "version": 3
   },
   "file_extension": ".py",
   "mimetype": "text/x-python",
   "name": "python",
   "nbconvert_exporter": "python",
   "pygments_lexer": "ipython3",
   "version": "3.11.3"
  },
  "orig_nbformat": 4
 },
 "nbformat": 4,
 "nbformat_minor": 2
}
