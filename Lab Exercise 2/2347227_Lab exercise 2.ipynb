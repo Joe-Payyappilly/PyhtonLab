{
 "cells": [
  {
   "cell_type": "markdown",
   "metadata": {},
   "source": [
    "Joe Payyappilly-2347227-MCA B-Lab Exercise 2"
   ]
  },
  {
   "cell_type": "markdown",
   "metadata": {},
   "source": [
    "1.Creating list and performing the functions"
   ]
  },
  {
   "cell_type": "code",
   "execution_count": 20,
   "metadata": {},
   "outputs": [
    {
     "name": "stdout",
     "output_type": "stream",
     "text": [
      "['Scientists', 'Theories', 'Equations']\n",
      "['Scientists', 'experiments', 'Theories', 'Equations']\n",
      "['Scientists', 'experiments', 'Theories', 'Equations', 'quantum', 'newtonian']\n",
      "['Scientists', 'experiments', 'Theories', 'Equations', 'quantum', 'newtonian', 'thermo dynamics', 'electronics']\n",
      "['Scientists', 'experiments', 'Theories', 'Equations', 'quantum', 'newtonian', 'thermo dynamics', 'electronics', '8.314', 'Active']\n"
     ]
    }
   ],
   "source": [
    "\n",
    "physics = [\"Scientists\",\"Theories\"]\n",
    "\n",
    "physics.append(\"Equations\")\n",
    "print(physics)\n",
    "\n",
    "physics.insert(1, \"experiments\")\n",
    "print(physics)\n",
    "\n",
    "physics.extend((\"quantum\", \"newtonian\"))\n",
    "print(physics)\n",
    "\n",
    "setofphysics = {\"thermo dynamics\", \"electronics\"}\n",
    "physics.extend(setofphysics)\n",
    "print(physics)\n",
    "\n",
    "dictofphy = {\"Key\": \"8.314\", \"Status\": \"Active\"}\n",
    "physics.extend(dictofphy.values())\n",
    "print(physics)\n"
   ]
  },
  {
   "cell_type": "markdown",
   "metadata": {},
   "source": [
    "2.Operations on lists"
   ]
  },
  {
   "cell_type": "code",
   "execution_count": 3,
   "metadata": {},
   "outputs": [
    {
     "name": "stdout",
     "output_type": "stream",
     "text": [
      "after swapping: [45, 3, 75, 28, 23, 10]\n",
      "total sum: 184\n",
      "smallest : 3\n"
     ]
    }
   ],
   "source": [
    "\n",
    "num_list = [10, 3, 75, 28, 23, 45]\n",
    "\n",
    "num_list[0], num_list[-1] = num_list[-1], num_list[0]\n",
    "print(\"after swapping:\", num_list)\n",
    "\n",
    "added = sum(num_list)\n",
    "print(\"total sum:\", added)\n",
    "\n",
    "smallest = min(num_list)\n",
    "print(\"smallest :\", smallest)\n"
   ]
  },
  {
   "cell_type": "markdown",
   "metadata": {},
   "source": [
    "3.Sort the dictionaries in ascending order based on the Key of the dictionary.\n"
   ]
  },
  {
   "cell_type": "code",
   "execution_count": 4,
   "metadata": {},
   "outputs": [
    {
     "name": "stdout",
     "output_type": "stream",
     "text": [
      "Sorted dictionary based on keys in ascending order: {'Equations': 2, 'Experiments': 4, 'Scientist': 3, 'Theory': 1}\n"
     ]
    }
   ],
   "source": [
    "\n",
    "physics = {'Scientist': 3, 'Theory': 1, 'Equations': 2, 'Experiments': 4}\n",
    "\n",
    "sort = {k: v for k, v in sorted(physics.items())}\n",
    "print(\"Sorted dictionary based on keys in ascending order:\", sort)\n"
   ]
  },
  {
   "cell_type": "markdown",
   "metadata": {},
   "source": [
    "4.Create the dictionary with Numeric as Value in Key – Value pair and find the sum of all the values in the Dictionary."
   ]
  },
  {
   "cell_type": "code",
   "execution_count": 7,
   "metadata": {},
   "outputs": [
    {
     "name": "stdout",
     "output_type": "stream",
     "text": [
      "sum: 10\n"
     ]
    }
   ],
   "source": [
    "\n",
    "physics = {'a': 1, 'b': 2, 'c': 3, 'd': 4}\n",
    "\n",
    "added = sum(physics.values())\n",
    "print(\"sum:\", added)\n"
   ]
  },
  {
   "cell_type": "markdown",
   "metadata": {},
   "source": [
    "5.Write a Python code to demonstrate the sorting in descending order of values with lambda function."
   ]
  },
  {
   "cell_type": "code",
   "execution_count": 10,
   "metadata": {},
   "outputs": [
    {
     "name": "stdout",
     "output_type": "stream",
     "text": [
      "sort: {'d': 4, 'a': 3, 'c': 2, 'b': 1}\n"
     ]
    }
   ],
   "source": [
    "physics = {'a': 3, 'b': 1, 'c': 2, 'd': 4}\n",
    "\n",
    "sort = {k: v for k, v in sorted(physics.items(), key=lambda item: item[1], reverse=True)}\n",
    "print(\"sort:\", sort)\n"
   ]
  }
 ],
 "metadata": {
  "kernelspec": {
   "display_name": "base",
   "language": "python",
   "name": "python3"
  },
  "language_info": {
   "codemirror_mode": {
    "name": "ipython",
    "version": 3
   },
   "file_extension": ".py",
   "mimetype": "text/x-python",
   "name": "python",
   "nbconvert_exporter": "python",
   "pygments_lexer": "ipython3",
   "version": "3.11.3"
  },
  "orig_nbformat": 4
 },
 "nbformat": 4,
 "nbformat_minor": 2
}
