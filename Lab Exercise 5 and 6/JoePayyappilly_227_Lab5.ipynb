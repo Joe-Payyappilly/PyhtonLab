{
 "cells": [
  {
   "cell_type": "markdown",
   "metadata": {},
   "source": [
    "Lab Exercise 5"
   ]
  },
  {
   "cell_type": "markdown",
   "metadata": {},
   "source": [
    "Question 1"
   ]
  },
  {
   "cell_type": "code",
   "execution_count": 6,
   "metadata": {},
   "outputs": [
    {
     "name": "stdout",
     "output_type": "stream",
     "text": [
      "errr: division by zero not allowed\n"
     ]
    }
   ],
   "source": [
    "def div(x, y):\n",
    "    try:\n",
    "        r = x / y\n",
    "        return r\n",
    "    except:\n",
    "        print(\"errr: division by zero not allowed\")\n",
    "        return None\n",
    "\n",
    "num = float(input(\"numerator: \"))\n",
    "denom = float(input(\"denominator: \"))\n",
    "r = div(num, denom)\n",
    "if r is not None:\n",
    "    print(f\"result: {r}\")\n"
   ]
  },
  {
   "cell_type": "markdown",
   "metadata": {},
   "source": [
    "Question 2"
   ]
  },
  {
   "cell_type": "code",
   "execution_count": 17,
   "metadata": {},
   "outputs": [
    {
     "name": "stdout",
     "output_type": "stream",
     "text": [
      "errr: index out of bound\n",
      "The list is [1, 2, 3, 4] and the index given was 5\n"
     ]
    }
   ],
   "source": [
    "def indx(a,i):\n",
    "    try:\n",
    "        print(a[i])\n",
    "        return a\n",
    "    except:\n",
    "        print(\"errr: index out of bound\")\n",
    "        return None\n",
    "    finally:\n",
    "         print(f\"The list is {a} and the index given was {i}\")\n",
    "lst = []\n",
    "\n",
    "n = int(input(\"enter number of elements : \"))\n",
    "\n",
    "for i in range(0, n):\n",
    "\tele = int(input())\n",
    "\tlst.append(ele)\n",
    "\n",
    "l=int(input(\"enter the index\"))\n",
    "indx(lst,l)\n"
   ]
  },
  {
   "cell_type": "markdown",
   "metadata": {},
   "source": [
    "Lab Exercise 6"
   ]
  },
  {
   "cell_type": "markdown",
   "metadata": {},
   "source": [
    "Question 1"
   ]
  },
  {
   "cell_type": "code",
   "execution_count": 32,
   "metadata": {},
   "outputs": [
    {
     "name": "stdout",
     "output_type": "stream",
     "text": [
      "My phone number is 111-111-1111\n",
      "Phone Number found: 111-111-1111\n"
     ]
    }
   ],
   "source": [
    "import re\n",
    "txt=input(\"enter the string\")\n",
    "print(txt)\n",
    "x = re.search(r\"(\\(\\d{3}\\)-\\d{3}-\\d{4}|\\d{3}-\\d{3}-\\d{4})\", txt)\n",
    "if x is not None:\n",
    "    print(\"Phone Number found:\",x.group())\n",
    "else:\n",
    "    print(\"Phone Number not found\")    \n"
   ]
  },
  {
   "cell_type": "markdown",
   "metadata": {},
   "source": [
    "Question 2"
   ]
  },
  {
   "cell_type": "code",
   "execution_count": 34,
   "metadata": {},
   "outputs": [
    {
     "name": "stdout",
     "output_type": "stream",
     "text": [
      "Christ@123\n",
      "The password is strong.\n"
     ]
    }
   ],
   "source": [
    "import re\n",
    "  \n",
    "password = input(\"enter a password: \")\n",
    "print(password)\n",
    "x=re.match(r\"^(?=.*[a-z])(?=.*[A-Z])(?=.*\\d)(?=.*[@$!%*?&])[A-Za-z\\d@$!%*?&]{8,}$\", password)\n",
    "\n",
    "if x is not None:\n",
    "    print(\"The password is strong.\")\n",
    "else:\n",
    "    print(\"The password is not strong.\")\n"
   ]
  }
 ],
 "metadata": {
  "kernelspec": {
   "display_name": "base",
   "language": "python",
   "name": "python3"
  },
  "language_info": {
   "codemirror_mode": {
    "name": "ipython",
    "version": 3
   },
   "file_extension": ".py",
   "mimetype": "text/x-python",
   "name": "python",
   "nbconvert_exporter": "python",
   "pygments_lexer": "ipython3",
   "version": "3.11.3"
  },
  "orig_nbformat": 4
 },
 "nbformat": 4,
 "nbformat_minor": 2
}
